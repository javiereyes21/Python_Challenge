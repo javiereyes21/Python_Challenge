{
 "cells": [
  {
   "cell_type": "code",
   "execution_count": 50,
   "id": "858f08c4-549c-47ae-80e6-917b5454cdb3",
   "metadata": {},
   "outputs": [],
   "source": [
    "import csv\n",
    "import os"
   ]
  },
  {
   "cell_type": "code",
   "execution_count": 88,
   "id": "5736b04f-20fd-4571-88a1-b4484a6f1470",
   "metadata": {},
   "outputs": [
    {
     "name": "stdout",
     "output_type": "stream",
     "text": [
      "Financial Analysis\n",
      "-----------------------------------------------------\n",
      "Total Months: 86\n",
      "Total: $ 22564198\n",
      "Average Change: $ -8311.11\n",
      "Greatest Increase: ['Aug-16', 1862002]\n",
      "Greatest Decrease: ['Feb-14', -1825558]\n"
     ]
    }
   ],
   "source": [
    "import csv  # Import the csv module\n",
    "\n",
    "# Initialize variables\n",
    "total_months = 0\n",
    "total = 0\n",
    "profit_changes = []\n",
    "greatest_increase = [\"\", 0]\n",
    "greatest_decrease = [\"\",0]\n",
    "\n",
    "# Specify the file path\n",
    "file_path = \"resources/budget_data.csv\"\n",
    "\n",
    "# Open the CSV file\n",
    "with open(file_path, 'r') as analysis:\n",
    "    csv_data = csv.reader(analysis, delimiter=\",\")\n",
    "    \n",
    "    # Skip the header row\n",
    "    header_row = next(csv_data)\n",
    "\n",
    "    # Read the first row (initialize)\n",
    "    first_row = next(csv_data)\n",
    "    total += int(first_row[1])\n",
    "    last_month = int(first_row[1])\n",
    "    total_months += 1\n",
    "\n",
    "    # Iterate through the remaining rows\n",
    "    for row in csv_data:\n",
    "        total_months += 1\n",
    "        current_month = int(row[1])\n",
    "        total += current_month\n",
    "\n",
    "        # Calculate monthly change and store it\n",
    "        monthly_change = current_month - last_month\n",
    "        profit_changes.append(monthly_change)\n",
    "\n",
    "        # Check for greatest increase\n",
    "        if monthly_change > greatest_increase[1]:\n",
    "            greatest_increase = [row[0], monthly_change]\n",
    "        \n",
    "        # Check for greatest decrease\n",
    "        if monthly_change < greatest_decrease[1]:\n",
    "            greatest_decrease = [row[0], monthly_change]\n",
    "\n",
    "        last_month = current_month\n",
    "\n",
    "# Calculate the average change\n",
    "average_change = sum(profit_changes) / len(profit_changes)\n",
    "\n",
    "# Print results for verification\n",
    "print (\"Financial Analysis\")\n",
    "print (\"-----------------------------------------------------\")\n",
    "print(\"Total Months:\",total_months)\n",
    "print(\"Total:\",\"$\",total)\n",
    "print(\"Average Change:\", \"$\",round(average_change, 2))\n",
    "print(\"Greatest Increase:\", greatest_increase)\n",
    "print(\"Greatest Decrease:\", greatest_decrease)\n"
   ]
  },
  {
   "cell_type": "code",
   "execution_count": 91,
   "id": "f6ce3d13-e3ad-4951-9cdb-60bf937b9683",
   "metadata": {},
   "outputs": [
    {
     "name": "stdout",
     "output_type": "stream",
     "text": [
      "Results exported to financial_results.txt\n"
     ]
    }
   ],
   "source": [
    "#Got this with the help of Xpert\n",
    "with open('financial_results.txt', 'w') as file:\n",
    "    # Write the results to the file\n",
    "    file.write(f\"Total Months: {total_months}\\n\")\n",
    "    file.write(f\"Total: {total}\\n\")\n",
    "    file.write(f\"Average Change: {average_change}\\n\")\n",
    "    file.write(f\"Greatest Increase: {greatest_increase}\\n\")\n",
    "    file.write(f\"Greatest Decrease: {greatest_decrease}\\n\")\n",
    "\n",
    "print(\"Results exported to financial_results.txt\")"
   ]
  },
  {
   "cell_type": "code",
   "execution_count": null,
   "id": "725a9074-bc80-4d9e-8122-f70663e80fbd",
   "metadata": {},
   "outputs": [],
   "source": []
  }
 ],
 "metadata": {
  "kernelspec": {
   "display_name": "Python 3 (ipykernel)",
   "language": "python",
   "name": "python3"
  },
  "language_info": {
   "codemirror_mode": {
    "name": "ipython",
    "version": 3
   },
   "file_extension": ".py",
   "mimetype": "text/x-python",
   "name": "python",
   "nbconvert_exporter": "python",
   "pygments_lexer": "ipython3",
   "version": "3.11.7"
  }
 },
 "nbformat": 4,
 "nbformat_minor": 5
}
